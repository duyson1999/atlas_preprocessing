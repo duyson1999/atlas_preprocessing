{
 "cells": [
  {
   "cell_type": "code",
   "execution_count": 1,
   "metadata": {},
   "outputs": [],
   "source": [
    "import json\n",
    "import scipy\n",
    "import numpy as np"
   ]
  },
  {
   "cell_type": "code",
   "execution_count": null,
   "metadata": {},
   "outputs": [],
   "source": [
    "def _create_gene_idx_mapping(alias_json, features_arr):\n",
    "\tfeatures_arr = [x.upper() for x in features_arr]\n",
    "\tfeatures_arr_dict = {name: idx for idx, name in enumerate(features_arr)}\n",
    "\tgene_alias_dict = json.load(open(alias_json))\n",
    "\n",
    "\tgene_idx_alias_dict = dict()\n",
    "\t# {alias_idx : replaced_idx}\n",
    "\tfor alias_name in gene_alias_dict:\n",
    "\t\treplaced_name = gene_alias_dict[alias_name]\n",
    "\t\tif alias_name not in features_arr_dict or replaced_name not in features_arr_dict:\n",
    "\t\t\tcontinue\n",
    "\t\tgene_idx_alias_dict[features_arr_dict[alias_name]] = features_arr_dict[replaced_name]\n",
    "\n",
    "\treturn gene_idx_alias_dict\n",
    "\n",
    "\n",
    "## matrix in raw (integer) data\n",
    "## Output: same shape as original matrix\n",
    "def merge_alias_gene(gxc_csr, features_arr, alias_json):\n",
    "\tgene_idx_alias_dict = _create_gene_idx_mapping(alias_json, features_arr)\n",
    "\n",
    "\tn_genes = gxc_csr.shape[0]\n",
    "\tn_cells = gxc_csr.shape[1]\n",
    "\n",
    "\tindices = [np.array([]) for i in range(n_genes)]\n",
    "\tdata = [np.array([]) for i in range(n_genes)]\n",
    "\tfor i in range(n_genes):\n",
    "\t\ttmp_arr = gxc_csr[i, :].toarray()[0].astype(np.float64)\n",
    "\t\tif i in gene_idx_alias_dict:\n",
    "\t\t\treplacted_idx = gene_idx_alias_dict[i]\n",
    "\t\telse:\n",
    "\t\t\treplacted_idx = i\n",
    "\n",
    "\t\talias_arr = np.zeros(n_cells, dtype=np.float64)\n",
    "\t\tif len(indices[replacted_idx]) > 0:\n",
    "\t\t\talias_arr[indices[replacted_idx]] = data[replacted_idx]\n",
    "\t\talias_arr += tmp_arr\n",
    "\n",
    "\t\ttmp_nonzero_idx = np.nonzero(alias_arr)[0]\n",
    "\t\tindices[replacted_idx] = tmp_nonzero_idx\n",
    "\t\tdata[replacted_idx] = alias_arr[tmp_nonzero_idx]\n",
    "\n",
    "\tn_expressed_genes_per_cell = [len(i) for i in indices]\n",
    "\tindptr = np.zeros(n_genes + 1)\n",
    "\tindptr[1:] = np.cumsum(n_expressed_genes_per_cell)\n",
    "\tindices = np.concatenate(indices)\n",
    "\tdata = np.concatenate(data)\n",
    "\n",
    "\treturn scipy.sparse.csr_matrix(\n",
    "\t\t(data, indices, indptr),\n",
    "\t\tshape=(n_genes, n_cells)\n",
    "\t)"
   ]
  },
  {
   "cell_type": "code",
   "execution_count": null,
   "metadata": {},
   "outputs": [],
   "source": [
    "alias_gene_dict = json.load(open('/data/sonvo/gene_mapping/update_human.json'))"
   ]
  }
 ],
 "metadata": {
  "kernelspec": {
   "display_name": "Python 3",
   "language": "python",
   "name": "python3"
  },
  "language_info": {
   "codemirror_mode": {
    "name": "ipython",
    "version": 3
   },
   "file_extension": ".py",
   "mimetype": "text/x-python",
   "name": "python",
   "nbconvert_exporter": "python",
   "pygments_lexer": "ipython3",
   "version": "3.11.5"
  }
 },
 "nbformat": 4,
 "nbformat_minor": 2
}
