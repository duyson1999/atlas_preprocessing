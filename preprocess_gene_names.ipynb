{
 "cells": [
  {
   "cell_type": "code",
   "execution_count": null,
   "metadata": {},
   "outputs": [],
   "source": [
    "def _normalize_gene_name(gene_name):\n",
    "\tif not gene_name:\n",
    "\t\treturn ''\n",
    "\tnorm_name = gene_name.replace('\\\"', '').replace('\\r', '').replace('\\n', '').strip().upper()\n",
    "\treturn norm_name.split('.')[0]\n",
    "\n",
    "\n",
    "def process_genes_names(genes_name_arr):\n",
    "\tfinal_genes = []\n",
    "\tfor gene in genes_name_arr:\n",
    "\t\tif isinstance(gene, bytes):\n",
    "\t\t\tgene = gene.decode('utf8').encode('ascii', 'ignore').decode('utf-8')\n",
    "\t\telse:\n",
    "\t\t\tgene = gene.encode('utf-8').decode('utf-8').encode('ascii', 'ignore').decode('utf-8')\n",
    "\t\tfinal_genes.append(_normalize_gene_name(gene))\n",
    "\treturn final_genes"
   ]
  }
 ],
 "metadata": {
  "kernelspec": {
   "display_name": "Python 3",
   "language": "python",
   "name": "python3"
  },
  "language_info": {
   "codemirror_mode": {
    "name": "ipython",
    "version": 3
   },
   "file_extension": ".py",
   "mimetype": "text/x-python",
   "name": "python",
   "nbconvert_exporter": "python",
   "pygments_lexer": "ipython3",
   "version": "3.11.5"
  }
 },
 "nbformat": 4,
 "nbformat_minor": 2
}
